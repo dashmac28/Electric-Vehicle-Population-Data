{
    "metadata": {
        "kernelspec": {
            "name": "SQL",
            "display_name": "SQL",
            "language": "sql"
        },
        "language_info": {
            "name": "sql",
            "version": ""
        }
    },
    "nbformat_minor": 2,
    "nbformat": 4,
    "cells": [
        {
            "cell_type": "markdown",
            "source": [
                "- <mark>_Electric Vehicle Population Data_</mark>\n",
                "- <mark>_CAP2761C Intermediate Analytics_</mark>\n",
                "- <mark>_<u>Project created by Dashiell Macias</u>_</mark>"
            ],
            "metadata": {
                "azdata_cell_guid": "5bcf0ece-2c1d-4ed7-a159-dcddf89b0dca"
            },
            "attachments": {}
        },
        {
            "cell_type": "markdown",
            "source": [
                "<mark>Introduction</mark>\n",
                "\n",
                "This project is to show the Battery Electric Vehicles (BEVs) and Plug-in Hybrid Electric Vehicles (PHEVs) that are currently registered through Washington State Dept of Licensing.  Also it would find registered batteries in other states. The data set shows how the automobile industry is moving forward to a cleaner invironment. This data set was found in Data.gov."
            ],
            "metadata": {
                "azdata_cell_guid": "4ccfac3a-8444-4f33-b99d-1d86bd090087"
            },
            "attachments": {}
        },
        {
            "cell_type": "markdown",
            "source": [
                "- Below are the Audi models that carried electric batteries in 2024"
            ],
            "metadata": {
                "language": "sql",
                "azdata_cell_guid": "53209964-0394-4ce3-aabb-3151aba98022"
            },
            "attachments": {}
        },
        {
            "cell_type": "code",
            "source": [
                "SELECT distinct model, Model_Year, Make\r\n",
                "from Electric_Vehicle_Population_Data\r\n",
                "Where Model_year = 2024 and make = 'Audi'\r\n",
                "ORDER by Model_Year;"
            ],
            "metadata": {
                "azdata_cell_guid": "045996b3-5b32-4a28-ae8c-208749d5329e",
                "language": "sql",
                "tags": []
            },
            "outputs": [
                {
                    "output_type": "display_data",
                    "data": {
                        "text/html": "(6 rows affected)"
                    },
                    "metadata": {}
                },
                {
                    "output_type": "display_data",
                    "data": {
                        "text/html": "Total execution time: 00:00:00.058"
                    },
                    "metadata": {}
                },
                {
                    "output_type": "execute_result",
                    "execution_count": 12,
                    "data": {
                        "application/vnd.dataresource+json": {
                            "schema": {
                                "fields": [
                                    {
                                        "name": "model"
                                    },
                                    {
                                        "name": "Model_Year"
                                    },
                                    {
                                        "name": "Make"
                                    }
                                ]
                            },
                            "data": [
                                {
                                    "model": "E-TRON GT",
                                    "Model_Year": "2024",
                                    "Make": "AUDI"
                                },
                                {
                                    "model": "Q4",
                                    "Model_Year": "2024",
                                    "Make": "AUDI"
                                },
                                {
                                    "model": "Q5 E",
                                    "Model_Year": "2024",
                                    "Make": "AUDI"
                                },
                                {
                                    "model": "Q8",
                                    "Model_Year": "2024",
                                    "Make": "AUDI"
                                },
                                {
                                    "model": "RS E-TRON GT",
                                    "Model_Year": "2024",
                                    "Make": "AUDI"
                                },
                                {
                                    "model": "SQ8",
                                    "Model_Year": "2024",
                                    "Make": "AUDI"
                                }
                            ]
                        },
                        "text/html": "<table><tr><th>model</th><th>Model_Year</th><th>Make</th></tr><tr><td>E-TRON GT</td><td>2024</td><td>AUDI</td></tr><tr><td>Q4</td><td>2024</td><td>AUDI</td></tr><tr><td>Q5 E</td><td>2024</td><td>AUDI</td></tr><tr><td>Q8</td><td>2024</td><td>AUDI</td></tr><tr><td>RS E-TRON GT</td><td>2024</td><td>AUDI</td></tr><tr><td>SQ8</td><td>2024</td><td>AUDI</td></tr></table>"
                    },
                    "metadata": {
                        "azdata_chartOptions": {
                            "type": "pie",
                            "dataDirection": "vertical",
                            "columnsAsLabels": true,
                            "labelFirstColumn": false,
                            "legendPosition": "left"
                        }
                    }
                }
            ],
            "execution_count": 12
        },
        {
            "cell_type": "markdown",
            "source": [
                "The following query is showing the Electric range for the Tesla's model, where batteries were tested and given the status of Clean alternative fuel vehicle eligible."
            ],
            "metadata": {
                "azdata_cell_guid": "f5e75280-80c1-478a-a56f-8e18243e7d23"
            },
            "attachments": {}
        },
        {
            "cell_type": "code",
            "source": [
                "Select distinct Model, Electric_Range,Make,Clean_Alternative_Fuel_Vehicle_CAFV_Eligibility from Electric_Vehicle_Population_Data\r\n",
                "where Make = 'Tesla' and Clean_Alternative_Fuel_Vehicle_CAFV_Eligibility = 'Clean Alternative Fuel Vehicle Eligible' ;"
            ],
            "metadata": {
                "azdata_cell_guid": "ae058339-dbf0-49e9-8f3f-b999f81ef251",
                "language": "sql",
                "tags": []
            },
            "outputs": [
                {
                    "output_type": "display_data",
                    "data": {
                        "text/html": "(19 rows affected)"
                    },
                    "metadata": {}
                },
                {
                    "output_type": "display_data",
                    "data": {
                        "text/html": "Total execution time: 00:00:00.099"
                    },
                    "metadata": {}
                },
                {
                    "output_type": "execute_result",
                    "metadata": {
                        "azdata_chartOptions": {
                            "type": "bar",
                            "dataDirection": "vertical",
                            "columnsAsLabels": true,
                            "labelFirstColumn": false,
                            "legendPosition": "top"
                        }
                    },
                    "execution_count": 10,
                    "data": {
                        "application/vnd.dataresource+json": {
                            "schema": {
                                "fields": [
                                    {
                                        "name": "Model"
                                    },
                                    {
                                        "name": "Electric_Range"
                                    },
                                    {
                                        "name": "Make"
                                    },
                                    {
                                        "name": "Clean_Alternative_Fuel_Vehicle_CAFV_Eligibility"
                                    }
                                ]
                            },
                            "data": [
                                {
                                    "Model": "MODEL S",
                                    "Electric_Range": "249",
                                    "Make": "TESLA",
                                    "Clean_Alternative_Fuel_Vehicle_CAFV_Eligibility": "Clean Alternative Fuel Vehicle Eligible"
                                },
                                {
                                    "Model": "ROADSTER",
                                    "Electric_Range": "220",
                                    "Make": "TESLA",
                                    "Clean_Alternative_Fuel_Vehicle_CAFV_Eligibility": "Clean Alternative Fuel Vehicle Eligible"
                                },
                                {
                                    "Model": "MODEL 3",
                                    "Electric_Range": "215",
                                    "Make": "TESLA",
                                    "Clean_Alternative_Fuel_Vehicle_CAFV_Eligibility": "Clean Alternative Fuel Vehicle Eligible"
                                },
                                {
                                    "Model": "MODEL X",
                                    "Electric_Range": "289",
                                    "Make": "TESLA",
                                    "Clean_Alternative_Fuel_Vehicle_CAFV_Eligibility": "Clean Alternative Fuel Vehicle Eligible"
                                },
                                {
                                    "Model": "MODEL Y",
                                    "Electric_Range": "291",
                                    "Make": "TESLA",
                                    "Clean_Alternative_Fuel_Vehicle_CAFV_Eligibility": "Clean Alternative Fuel Vehicle Eligible"
                                },
                                {
                                    "Model": "MODEL S",
                                    "Electric_Range": "270",
                                    "Make": "TESLA",
                                    "Clean_Alternative_Fuel_Vehicle_CAFV_Eligibility": "Clean Alternative Fuel Vehicle Eligible"
                                },
                                {
                                    "Model": "MODEL X",
                                    "Electric_Range": "238",
                                    "Make": "TESLA",
                                    "Clean_Alternative_Fuel_Vehicle_CAFV_Eligibility": "Clean Alternative Fuel Vehicle Eligible"
                                },
                                {
                                    "Model": "MODEL S",
                                    "Electric_Range": "330",
                                    "Make": "TESLA",
                                    "Clean_Alternative_Fuel_Vehicle_CAFV_Eligibility": "Clean Alternative Fuel Vehicle Eligible"
                                },
                                {
                                    "Model": "MODEL 3",
                                    "Electric_Range": "308",
                                    "Make": "TESLA",
                                    "Clean_Alternative_Fuel_Vehicle_CAFV_Eligibility": "Clean Alternative Fuel Vehicle Eligible"
                                },
                                {
                                    "Model": "MODEL S",
                                    "Electric_Range": "208",
                                    "Make": "TESLA",
                                    "Clean_Alternative_Fuel_Vehicle_CAFV_Eligibility": "Clean Alternative Fuel Vehicle Eligible"
                                },
                                {
                                    "Model": "MODEL S",
                                    "Electric_Range": "210",
                                    "Make": "TESLA",
                                    "Clean_Alternative_Fuel_Vehicle_CAFV_Eligibility": "Clean Alternative Fuel Vehicle Eligible"
                                },
                                {
                                    "Model": "MODEL 3",
                                    "Electric_Range": "322",
                                    "Make": "TESLA",
                                    "Clean_Alternative_Fuel_Vehicle_CAFV_Eligibility": "Clean Alternative Fuel Vehicle Eligible"
                                },
                                {
                                    "Model": "MODEL S",
                                    "Electric_Range": "265",
                                    "Make": "TESLA",
                                    "Clean_Alternative_Fuel_Vehicle_CAFV_Eligibility": "Clean Alternative Fuel Vehicle Eligible"
                                },
                                {
                                    "Model": "MODEL 3",
                                    "Electric_Range": "220",
                                    "Make": "TESLA",
                                    "Clean_Alternative_Fuel_Vehicle_CAFV_Eligibility": "Clean Alternative Fuel Vehicle Eligible"
                                },
                                {
                                    "Model": "MODEL X",
                                    "Electric_Range": "293",
                                    "Make": "TESLA",
                                    "Clean_Alternative_Fuel_Vehicle_CAFV_Eligibility": "Clean Alternative Fuel Vehicle Eligible"
                                },
                                {
                                    "Model": "ROADSTER",
                                    "Electric_Range": "245",
                                    "Make": "TESLA",
                                    "Clean_Alternative_Fuel_Vehicle_CAFV_Eligibility": "Clean Alternative Fuel Vehicle Eligible"
                                },
                                {
                                    "Model": "MODEL X",
                                    "Electric_Range": "200",
                                    "Make": "TESLA",
                                    "Clean_Alternative_Fuel_Vehicle_CAFV_Eligibility": "Clean Alternative Fuel Vehicle Eligible"
                                },
                                {
                                    "Model": "MODEL 3",
                                    "Electric_Range": "266",
                                    "Make": "TESLA",
                                    "Clean_Alternative_Fuel_Vehicle_CAFV_Eligibility": "Clean Alternative Fuel Vehicle Eligible"
                                },
                                {
                                    "Model": "MODEL S",
                                    "Electric_Range": "337",
                                    "Make": "TESLA",
                                    "Clean_Alternative_Fuel_Vehicle_CAFV_Eligibility": "Clean Alternative Fuel Vehicle Eligible"
                                }
                            ]
                        },
                        "text/html": [
                            "<table>",
                            "<tr><th>Model</th><th>Electric_Range</th><th>Make</th><th>Clean_Alternative_Fuel_Vehicle_CAFV_Eligibility</th></tr>",
                            "<tr><td>MODEL S</td><td>249</td><td>TESLA</td><td>Clean Alternative Fuel Vehicle Eligible</td></tr>",
                            "<tr><td>ROADSTER</td><td>220</td><td>TESLA</td><td>Clean Alternative Fuel Vehicle Eligible</td></tr>",
                            "<tr><td>MODEL 3</td><td>215</td><td>TESLA</td><td>Clean Alternative Fuel Vehicle Eligible</td></tr>",
                            "<tr><td>MODEL X</td><td>289</td><td>TESLA</td><td>Clean Alternative Fuel Vehicle Eligible</td></tr>",
                            "<tr><td>MODEL Y</td><td>291</td><td>TESLA</td><td>Clean Alternative Fuel Vehicle Eligible</td></tr>",
                            "<tr><td>MODEL S</td><td>270</td><td>TESLA</td><td>Clean Alternative Fuel Vehicle Eligible</td></tr>",
                            "<tr><td>MODEL X</td><td>238</td><td>TESLA</td><td>Clean Alternative Fuel Vehicle Eligible</td></tr>",
                            "<tr><td>MODEL S</td><td>330</td><td>TESLA</td><td>Clean Alternative Fuel Vehicle Eligible</td></tr>",
                            "<tr><td>MODEL 3</td><td>308</td><td>TESLA</td><td>Clean Alternative Fuel Vehicle Eligible</td></tr>",
                            "<tr><td>MODEL S</td><td>208</td><td>TESLA</td><td>Clean Alternative Fuel Vehicle Eligible</td></tr>",
                            "<tr><td>MODEL S</td><td>210</td><td>TESLA</td><td>Clean Alternative Fuel Vehicle Eligible</td></tr>",
                            "<tr><td>MODEL 3</td><td>322</td><td>TESLA</td><td>Clean Alternative Fuel Vehicle Eligible</td></tr>",
                            "<tr><td>MODEL S</td><td>265</td><td>TESLA</td><td>Clean Alternative Fuel Vehicle Eligible</td></tr>",
                            "<tr><td>MODEL 3</td><td>220</td><td>TESLA</td><td>Clean Alternative Fuel Vehicle Eligible</td></tr>",
                            "<tr><td>MODEL X</td><td>293</td><td>TESLA</td><td>Clean Alternative Fuel Vehicle Eligible</td></tr>",
                            "<tr><td>ROADSTER</td><td>245</td><td>TESLA</td><td>Clean Alternative Fuel Vehicle Eligible</td></tr>",
                            "<tr><td>MODEL X</td><td>200</td><td>TESLA</td><td>Clean Alternative Fuel Vehicle Eligible</td></tr>",
                            "<tr><td>MODEL 3</td><td>266</td><td>TESLA</td><td>Clean Alternative Fuel Vehicle Eligible</td></tr>",
                            "<tr><td>MODEL S</td><td>337</td><td>TESLA</td><td>Clean Alternative Fuel Vehicle Eligible</td></tr>",
                            "</table>"
                        ]
                    }
                }
            ],
            "execution_count": 10
        },
        {
            "cell_type": "markdown",
            "source": [
                "The following query is the show all information about the Plug-in Hybrid Electric Vehicle in which the range is less than 50 miles in the state of Washington; however, we can create another query to be more specific, for example Model year and Car Brand."
            ],
            "metadata": {
                "azdata_cell_guid": "b8c2c3a1-17a3-4d10-9685-749dcca85a68"
            },
            "attachments": {}
        },
        {
            "cell_type": "code",
            "source": [
                "Select distinct Model,[Electric_Range],[Electric_Vehicle_Type],[State] from Electric_Vehicle_Population_Data\r\n",
                "Where Electric_Vehicle_Type = 'Plug-in Hybrid Electric Vehicle (PHEV)' and Electric_Range < 50 and state = 'WA';"
            ],
            "metadata": {
                "azdata_cell_guid": "fea31828-c33b-426a-91b1-0b10af22a44d",
                "language": "sql"
            },
            "outputs": [
                {
                    "output_type": "display_data",
                    "data": {
                        "text/html": "(129 rows affected)"
                    },
                    "metadata": {}
                },
                {
                    "output_type": "display_data",
                    "data": {
                        "text/html": "Total execution time: 00:00:00.047"
                    },
                    "metadata": {}
                },
                {
                    "output_type": "execute_result",
                    "metadata": {
                        "azdata_chartOptions": {
                            "type": "line",
                            "dataDirection": "vertical",
                            "columnsAsLabels": true,
                            "labelFirstColumn": false,
                            "legendPosition": "top",
                            "dataType": "number"
                        }
                    },
                    "execution_count": 21,
                    "data": {
                        "application/vnd.dataresource+json": {
                            "schema": {
                                "fields": [
                                    {
                                        "name": "Model"
                                    },
                                    {
                                        "name": "Electric_Range"
                                    },
                                    {
                                        "name": "Electric_Vehicle_Type"
                                    },
                                    {
                                        "name": "State"
                                    }
                                ]
                            },
                            "data": [
                                {
                                    "Model": "XC90",
                                    "Electric_Range": "13",
                                    "Electric_Vehicle_Type": "Plug-in Hybrid Electric Vehicle (PHEV)",
                                    "State": "WA"
                                },
                                {
                                    "Model": "S-CLASS",
                                    "Electric_Range": "46",
                                    "Electric_Vehicle_Type": "Plug-in Hybrid Electric Vehicle (PHEV)",
                                    "State": "WA"
                                },
                                {
                                    "Model": "530E",
                                    "Electric_Range": "15",
                                    "Electric_Vehicle_Type": "Plug-in Hybrid Electric Vehicle (PHEV)",
                                    "State": "WA"
                                },
                                {
                                    "Model": "COUNTRYMAN",
                                    "Electric_Range": "17",
                                    "Electric_Vehicle_Type": "Plug-in Hybrid Electric Vehicle (PHEV)",
                                    "State": "WA"
                                },
                                {
                                    "Model": "NIRO",
                                    "Electric_Range": "33",
                                    "Electric_Vehicle_Type": "Plug-in Hybrid Electric Vehicle (PHEV)",
                                    "State": "WA"
                                },
                                {
                                    "Model": "SANTA FE",
                                    "Electric_Range": "31",
                                    "Electric_Vehicle_Type": "Plug-in Hybrid Electric Vehicle (PHEV)",
                                    "State": "WA"
                                },
                                {
                                    "Model": "ELR",
                                    "Electric_Range": "40",
                                    "Electric_Vehicle_Type": "Plug-in Hybrid Electric Vehicle (PHEV)",
                                    "State": "WA"
                                },
                                {
                                    "Model": "GRAND CHEROKEE",
                                    "Electric_Range": "25",
                                    "Electric_Vehicle_Type": "Plug-in Hybrid Electric Vehicle (PHEV)",
                                    "State": "WA"
                                },
                                {
                                    "Model": "ELR",
                                    "Electric_Range": "37",
                                    "Electric_Vehicle_Type": "Plug-in Hybrid Electric Vehicle (PHEV)",
                                    "State": "WA"
                                },
                                {
                                    "Model": "GLE-CLASS",
                                    "Electric_Range": "48",
                                    "Electric_Vehicle_Type": "Plug-in Hybrid Electric Vehicle (PHEV)",
                                    "State": "WA"
                                },
                                {
                                    "Model": "X5",
                                    "Electric_Range": "14",
                                    "Electric_Vehicle_Type": "Plug-in Hybrid Electric Vehicle (PHEV)",
                                    "State": "WA"
                                },
                                {
                                    "Model": "330E",
                                    "Electric_Range": "20",
                                    "Electric_Vehicle_Type": "Plug-in Hybrid Electric Vehicle (PHEV)",
                                    "State": "WA"
                                },
                                {
                                    "Model": "FUSION",
                                    "Electric_Range": "26",
                                    "Electric_Vehicle_Type": "Plug-in Hybrid Electric Vehicle (PHEV)",
                                    "State": "WA"
                                },
                                {
                                    "Model": "750E",
                                    "Electric_Range": "36",
                                    "Electric_Vehicle_Type": "Plug-in Hybrid Electric Vehicle (PHEV)",
                                    "State": "WA"
                                },
                                {
                                    "Model": "CAYENNE",
                                    "Electric_Range": "15",
                                    "Electric_Vehicle_Type": "Plug-in Hybrid Electric Vehicle (PHEV)",
                                    "State": "WA"
                                },
                                {
                                    "Model": "PANAMERA",
                                    "Electric_Range": "18",
                                    "Electric_Vehicle_Type": "Plug-in Hybrid Electric Vehicle (PHEV)",
                                    "State": "WA"
                                },
                                {
                                    "Model": "TX",
                                    "Electric_Range": "33",
                                    "Electric_Vehicle_Type": "Plug-in Hybrid Electric Vehicle (PHEV)",
                                    "State": "WA"
                                },
                                {
                                    "Model": "AVIATOR",
                                    "Electric_Range": "21",
                                    "Electric_Vehicle_Type": "Plug-in Hybrid Electric Vehicle (PHEV)",
                                    "State": "WA"
                                },
                                {
                                    "Model": "SONATA",
                                    "Electric_Range": "28",
                                    "Electric_Vehicle_Type": "Plug-in Hybrid Electric Vehicle (PHEV)",
                                    "State": "WA"
                                },
                                {
                                    "Model": "CAYENNE",
                                    "Electric_Range": "12",
                                    "Electric_Vehicle_Type": "Plug-in Hybrid Electric Vehicle (PHEV)",
                                    "State": "WA"
                                },
                                {
                                    "Model": "NX",
                                    "Electric_Range": "37",
                                    "Electric_Vehicle_Type": "Plug-in Hybrid Electric Vehicle (PHEV)",
                                    "State": "WA"
                                },
                                {
                                    "Model": "CLARITY",
                                    "Electric_Range": "48",
                                    "Electric_Vehicle_Type": "Plug-in Hybrid Electric Vehicle (PHEV)",
                                    "State": "WA"
                                },
                                {
                                    "Model": "X5",
                                    "Electric_Range": "30",
                                    "Electric_Vehicle_Type": "Plug-in Hybrid Electric Vehicle (PHEV)",
                                    "State": "WA"
                                },
                                {
                                    "Model": "Q5 E",
                                    "Electric_Range": "19",
                                    "Electric_Vehicle_Type": "Plug-in Hybrid Electric Vehicle (PHEV)",
                                    "State": "WA"
                                },
                                {
                                    "Model": "RX",
                                    "Electric_Range": "37",
                                    "Electric_Vehicle_Type": "Plug-in Hybrid Electric Vehicle (PHEV)",
                                    "State": "WA"
                                },
                                {
                                    "Model": "S60",
                                    "Electric_Range": "22",
                                    "Electric_Vehicle_Type": "Plug-in Hybrid Electric Vehicle (PHEV)",
                                    "State": "WA"
                                },
                                {
                                    "Model": "XC60",
                                    "Electric_Range": "17",
                                    "Electric_Vehicle_Type": "Plug-in Hybrid Electric Vehicle (PHEV)",
                                    "State": "WA"
                                },
                                {
                                    "Model": "PACIFICA",
                                    "Electric_Range": "32",
                                    "Electric_Vehicle_Type": "Plug-in Hybrid Electric Vehicle (PHEV)",
                                    "State": "WA"
                                },
                                {
                                    "Model": "Q5",
                                    "Electric_Range": "23",
                                    "Electric_Vehicle_Type": "Plug-in Hybrid Electric Vehicle (PHEV)",
                                    "State": "WA"
                                },
                                {
                                    "Model": "BENTAYGA",
                                    "Electric_Range": "17",
                                    "Electric_Vehicle_Type": "Plug-in Hybrid Electric Vehicle (PHEV)",
                                    "State": "WA"
                                },
                                {
                                    "Model": "CT6",
                                    "Electric_Range": "31",
                                    "Electric_Vehicle_Type": "Plug-in Hybrid Electric Vehicle (PHEV)",
                                    "State": "WA"
                                },
                                {
                                    "Model": "I8",
                                    "Electric_Range": "17",
                                    "Electric_Vehicle_Type": "Plug-in Hybrid Electric Vehicle (PHEV)",
                                    "State": "WA"
                                },
                                {
                                    "Model": "XC90",
                                    "Electric_Range": "32",
                                    "Electric_Vehicle_Type": "Plug-in Hybrid Electric Vehicle (PHEV)",
                                    "State": "WA"
                                },
                                {
                                    "Model": "S90",
                                    "Electric_Range": "21",
                                    "Electric_Vehicle_Type": "Plug-in Hybrid Electric Vehicle (PHEV)",
                                    "State": "WA"
                                },
                                {
                                    "Model": "FLYING SPUR",
                                    "Electric_Range": "21",
                                    "Electric_Vehicle_Type": "Plug-in Hybrid Electric Vehicle (PHEV)",
                                    "State": "WA"
                                },
                                {
                                    "Model": "PRIUS PRIME",
                                    "Electric_Range": "25",
                                    "Electric_Vehicle_Type": "Plug-in Hybrid Electric Vehicle (PHEV)",
                                    "State": "WA"
                                },
                                {
                                    "Model": "CROSSTREK",
                                    "Electric_Range": "17",
                                    "Electric_Vehicle_Type": "Plug-in Hybrid Electric Vehicle (PHEV)",
                                    "State": "WA"
                                },
                                {
                                    "Model": "SPORTAGE",
                                    "Electric_Range": "34",
                                    "Electric_Vehicle_Type": "Plug-in Hybrid Electric Vehicle (PHEV)",
                                    "State": "WA"
                                },
                                {
                                    "Model": "S-CLASS",
                                    "Electric_Range": "14",
                                    "Electric_Vehicle_Type": "Plug-in Hybrid Electric Vehicle (PHEV)",
                                    "State": "WA"
                                },
                                {
                                    "Model": "330E",
                                    "Electric_Range": "14",
                                    "Electric_Vehicle_Type": "Plug-in Hybrid Electric Vehicle (PHEV)",
                                    "State": "WA"
                                },
                                {
                                    "Model": "C-MAX",
                                    "Electric_Range": "19",
                                    "Electric_Vehicle_Type": "Plug-in Hybrid Electric Vehicle (PHEV)",
                                    "State": "WA"
                                },
                                {
                                    "Model": "S60",
                                    "Electric_Range": "41",
                                    "Electric_Vehicle_Type": "Plug-in Hybrid Electric Vehicle (PHEV)",
                                    "State": "WA"
                                },
                                {
                                    "Model": "OUTLANDER",
                                    "Electric_Range": "22",
                                    "Electric_Vehicle_Type": "Plug-in Hybrid Electric Vehicle (PHEV)",
                                    "State": "WA"
                                },
                                {
                                    "Model": "C-CLASS",
                                    "Electric_Range": "8",
                                    "Electric_Vehicle_Type": "Plug-in Hybrid Electric Vehicle (PHEV)",
                                    "State": "WA"
                                },
                                {
                                    "Model": "Q5 E",
                                    "Electric_Range": "18",
                                    "Electric_Vehicle_Type": "Plug-in Hybrid Electric Vehicle (PHEV)",
                                    "State": "WA"
                                },
                                {
                                    "Model": "CLARITY",
                                    "Electric_Range": "47",
                                    "Electric_Vehicle_Type": "Plug-in Hybrid Electric Vehicle (PHEV)",
                                    "State": "WA"
                                },
                                {
                                    "Model": "IONIQ",
                                    "Electric_Range": "29",
                                    "Electric_Vehicle_Type": "Plug-in Hybrid Electric Vehicle (PHEV)",
                                    "State": "WA"
                                },
                                {
                                    "Model": "V60",
                                    "Electric_Range": "41",
                                    "Electric_Vehicle_Type": "Plug-in Hybrid Electric Vehicle (PHEV)",
                                    "State": "WA"
                                },
                                {
                                    "Model": "C-CLASS",
                                    "Electric_Range": "11",
                                    "Electric_Vehicle_Type": "Plug-in Hybrid Electric Vehicle (PHEV)",
                                    "State": "WA"
                                },
                                {
                                    "Model": "FUSION",
                                    "Electric_Range": "19",
                                    "Electric_Vehicle_Type": "Plug-in Hybrid Electric Vehicle (PHEV)",
                                    "State": "WA"
                                },
                                {
                                    "Model": "PRIUS PRIME",
                                    "Electric_Range": "39",
                                    "Electric_Vehicle_Type": "Plug-in Hybrid Electric Vehicle (PHEV)",
                                    "State": "WA"
                                },
                                {
                                    "Model": "SORENTO",
                                    "Electric_Range": "32",
                                    "Electric_Vehicle_Type": "Plug-in Hybrid Electric Vehicle (PHEV)",
                                    "State": "WA"
                                },
                                {
                                    "Model": "PACIFICA",
                                    "Electric_Range": "33",
                                    "Electric_Vehicle_Type": "Plug-in Hybrid Electric Vehicle (PHEV)",
                                    "State": "WA"
                                },
                                {
                                    "Model": "Q5 E",
                                    "Electric_Range": "20",
                                    "Electric_Vehicle_Type": "Plug-in Hybrid Electric Vehicle (PHEV)",
                                    "State": "WA"
                                },
                                {
                                    "Model": "GLC-CLASS",
                                    "Electric_Range": "22",
                                    "Electric_Vehicle_Type": "Plug-in Hybrid Electric Vehicle (PHEV)",
                                    "State": "WA"
                                },
                                {
                                    "Model": "SONATA",
                                    "Electric_Range": "27",
                                    "Electric_Vehicle_Type": "Plug-in Hybrid Electric Vehicle (PHEV)",
                                    "State": "WA"
                                },
                                {
                                    "Model": "XC90",
                                    "Electric_Range": "19",
                                    "Electric_Vehicle_Type": "Plug-in Hybrid Electric Vehicle (PHEV)",
                                    "State": "WA"
                                },
                                {
                                    "Model": "OUTLANDER",
                                    "Electric_Range": "24",
                                    "Electric_Vehicle_Type": "Plug-in Hybrid Electric Vehicle (PHEV)",
                                    "State": "WA"
                                },
                                {
                                    "Model": "GLE-CLASS",
                                    "Electric_Range": "10",
                                    "Electric_Vehicle_Type": "Plug-in Hybrid Electric Vehicle (PHEV)",
                                    "State": "WA"
                                },
                                {
                                    "Model": "Q5",
                                    "Electric_Range": "22",
                                    "Electric_Vehicle_Type": "Plug-in Hybrid Electric Vehicle (PHEV)",
                                    "State": "WA"
                                },
                                {
                                    "Model": "RANGE ROVER SPORT",
                                    "Electric_Range": "19",
                                    "Electric_Vehicle_Type": "Plug-in Hybrid Electric Vehicle (PHEV)",
                                    "State": "WA"
                                },
                                {
                                    "Model": "NIRO",
                                    "Electric_Range": "26",
                                    "Electric_Vehicle_Type": "Plug-in Hybrid Electric Vehicle (PHEV)",
                                    "State": "WA"
                                },
                                {
                                    "Model": "CAYENNE",
                                    "Electric_Range": "13",
                                    "Electric_Vehicle_Type": "Plug-in Hybrid Electric Vehicle (PHEV)",
                                    "State": "WA"
                                },
                                {
                                    "Model": "CAYENNE",
                                    "Electric_Range": "16",
                                    "Electric_Vehicle_Type": "Plug-in Hybrid Electric Vehicle (PHEV)",
                                    "State": "WA"
                                },
                                {
                                    "Model": "CX-90",
                                    "Electric_Range": "26",
                                    "Electric_Vehicle_Type": "Plug-in Hybrid Electric Vehicle (PHEV)",
                                    "State": "WA"
                                },
                                {
                                    "Model": "XC60",
                                    "Electric_Range": "19",
                                    "Electric_Vehicle_Type": "Plug-in Hybrid Electric Vehicle (PHEV)",
                                    "State": "WA"
                                },
                                {
                                    "Model": "ELR",
                                    "Electric_Range": "36",
                                    "Electric_Vehicle_Type": "Plug-in Hybrid Electric Vehicle (PHEV)",
                                    "State": "WA"
                                },
                                {
                                    "Model": "Q5 E",
                                    "Electric_Range": "23",
                                    "Electric_Vehicle_Type": "Plug-in Hybrid Electric Vehicle (PHEV)",
                                    "State": "WA"
                                },
                                {
                                    "Model": "OPTIMA",
                                    "Electric_Range": "29",
                                    "Electric_Vehicle_Type": "Plug-in Hybrid Electric Vehicle (PHEV)",
                                    "State": "WA"
                                },
                                {
                                    "Model": "330E",
                                    "Electric_Range": "22",
                                    "Electric_Vehicle_Type": "Plug-in Hybrid Electric Vehicle (PHEV)",
                                    "State": "WA"
                                },
                                {
                                    "Model": "PANAMERA",
                                    "Electric_Range": "15",
                                    "Electric_Vehicle_Type": "Plug-in Hybrid Electric Vehicle (PHEV)",
                                    "State": "WA"
                                },
                                {
                                    "Model": "S90",
                                    "Electric_Range": "38",
                                    "Electric_Vehicle_Type": "Plug-in Hybrid Electric Vehicle (PHEV)",
                                    "State": "WA"
                                },
                                {
                                    "Model": "RANGE ROVER",
                                    "Electric_Range": "19",
                                    "Electric_Vehicle_Type": "Plug-in Hybrid Electric Vehicle (PHEV)",
                                    "State": "WA"
                                },
                                {
                                    "Model": "VOLT",
                                    "Electric_Range": "38",
                                    "Electric_Vehicle_Type": "Plug-in Hybrid Electric Vehicle (PHEV)",
                                    "State": "WA"
                                },
                                {
                                    "Model": "TONALE",
                                    "Electric_Range": "33",
                                    "Electric_Vehicle_Type": "Plug-in Hybrid Electric Vehicle (PHEV)",
                                    "State": "WA"
                                },
                                {
                                    "Model": "VOLT",
                                    "Electric_Range": "35",
                                    "Electric_Vehicle_Type": "Plug-in Hybrid Electric Vehicle (PHEV)",
                                    "State": "WA"
                                },
                                {
                                    "Model": "COUNTRYMAN",
                                    "Electric_Range": "12",
                                    "Electric_Vehicle_Type": "Plug-in Hybrid Electric Vehicle (PHEV)",
                                    "State": "WA"
                                },
                                {
                                    "Model": "KARMA",
                                    "Electric_Range": "33",
                                    "Electric_Vehicle_Type": "Plug-in Hybrid Electric Vehicle (PHEV)",
                                    "State": "WA"
                                },
                                {
                                    "Model": "GLC-CLASS",
                                    "Electric_Range": "10",
                                    "Electric_Vehicle_Type": "Plug-in Hybrid Electric Vehicle (PHEV)",
                                    "State": "WA"
                                },
                                {
                                    "Model": "XM",
                                    "Electric_Range": "31",
                                    "Electric_Vehicle_Type": "Plug-in Hybrid Electric Vehicle (PHEV)",
                                    "State": "WA"
                                },
                                {
                                    "Model": "530E",
                                    "Electric_Range": "14",
                                    "Electric_Vehicle_Type": "Plug-in Hybrid Electric Vehicle (PHEV)",
                                    "State": "WA"
                                },
                                {
                                    "Model": "ESCAPE",
                                    "Electric_Range": "38",
                                    "Electric_Vehicle_Type": "Plug-in Hybrid Electric Vehicle (PHEV)",
                                    "State": "WA"
                                },
                                {
                                    "Model": "530E",
                                    "Electric_Range": "20",
                                    "Electric_Vehicle_Type": "Plug-in Hybrid Electric Vehicle (PHEV)",
                                    "State": "WA"
                                },
                                {
                                    "Model": "CORSAIR",
                                    "Electric_Range": "28",
                                    "Electric_Vehicle_Type": "Plug-in Hybrid Electric Vehicle (PHEV)",
                                    "State": "WA"
                                },
                                {
                                    "Model": "530E",
                                    "Electric_Range": "21",
                                    "Electric_Vehicle_Type": "Plug-in Hybrid Electric Vehicle (PHEV)",
                                    "State": "WA"
                                },
                                {
                                    "Model": "XC60",
                                    "Electric_Range": "32",
                                    "Electric_Vehicle_Type": "Plug-in Hybrid Electric Vehicle (PHEV)",
                                    "State": "WA"
                                },
                                {
                                    "Model": "A3",
                                    "Electric_Range": "16",
                                    "Electric_Vehicle_Type": "Plug-in Hybrid Electric Vehicle (PHEV)",
                                    "State": "WA"
                                },
                                {
                                    "Model": "X5",
                                    "Electric_Range": "13",
                                    "Electric_Vehicle_Type": "Plug-in Hybrid Electric Vehicle (PHEV)",
                                    "State": "WA"
                                },
                                {
                                    "Model": "530E",
                                    "Electric_Range": "18",
                                    "Electric_Vehicle_Type": "Plug-in Hybrid Electric Vehicle (PHEV)",
                                    "State": "WA"
                                },
                                {
                                    "Model": "RAV4 PRIME",
                                    "Electric_Range": "42",
                                    "Electric_Vehicle_Type": "Plug-in Hybrid Electric Vehicle (PHEV)",
                                    "State": "WA"
                                },
                                {
                                    "Model": "ACCORD",
                                    "Electric_Range": "13",
                                    "Electric_Vehicle_Type": "Plug-in Hybrid Electric Vehicle (PHEV)",
                                    "State": "WA"
                                },
                                {
                                    "Model": "X5",
                                    "Electric_Range": "39",
                                    "Electric_Vehicle_Type": "Plug-in Hybrid Electric Vehicle (PHEV)",
                                    "State": "WA"
                                },
                                {
                                    "Model": "GLC-CLASS",
                                    "Electric_Range": "9",
                                    "Electric_Vehicle_Type": "Plug-in Hybrid Electric Vehicle (PHEV)",
                                    "State": "WA"
                                },
                                {
                                    "Model": "C-MAX",
                                    "Electric_Range": "20",
                                    "Electric_Vehicle_Type": "Plug-in Hybrid Electric Vehicle (PHEV)",
                                    "State": "WA"
                                },
                                {
                                    "Model": "XC90",
                                    "Electric_Range": "35",
                                    "Electric_Vehicle_Type": "Plug-in Hybrid Electric Vehicle (PHEV)",
                                    "State": "WA"
                                },
                                {
                                    "Model": "X3",
                                    "Electric_Range": "17",
                                    "Electric_Vehicle_Type": "Plug-in Hybrid Electric Vehicle (PHEV)",
                                    "State": "WA"
                                },
                                {
                                    "Model": "XC60",
                                    "Electric_Range": "35",
                                    "Electric_Vehicle_Type": "Plug-in Hybrid Electric Vehicle (PHEV)",
                                    "State": "WA"
                                },
                                {
                                    "Model": "CAYENNE",
                                    "Electric_Range": "17",
                                    "Electric_Vehicle_Type": "Plug-in Hybrid Electric Vehicle (PHEV)",
                                    "State": "WA"
                                },
                                {
                                    "Model": "CAYENNE",
                                    "Electric_Range": "14",
                                    "Electric_Vehicle_Type": "Plug-in Hybrid Electric Vehicle (PHEV)",
                                    "State": "WA"
                                },
                                {
                                    "Model": "A7 E",
                                    "Electric_Range": "24",
                                    "Electric_Vehicle_Type": "Plug-in Hybrid Electric Vehicle (PHEV)",
                                    "State": "WA"
                                },
                                {
                                    "Model": "PANAMERA",
                                    "Electric_Range": "19",
                                    "Electric_Vehicle_Type": "Plug-in Hybrid Electric Vehicle (PHEV)",
                                    "State": "WA"
                                },
                                {
                                    "Model": "GLE-CLASS",
                                    "Electric_Range": "8",
                                    "Electric_Vehicle_Type": "Plug-in Hybrid Electric Vehicle (PHEV)",
                                    "State": "WA"
                                },
                                {
                                    "Model": "PANAMERA",
                                    "Electric_Range": "16",
                                    "Electric_Vehicle_Type": "Plug-in Hybrid Electric Vehicle (PHEV)",
                                    "State": "WA"
                                },
                                {
                                    "Model": "FUSION",
                                    "Electric_Range": "21",
                                    "Electric_Vehicle_Type": "Plug-in Hybrid Electric Vehicle (PHEV)",
                                    "State": "WA"
                                },
                                {
                                    "Model": "I8",
                                    "Electric_Range": "18",
                                    "Electric_Vehicle_Type": "Plug-in Hybrid Electric Vehicle (PHEV)",
                                    "State": "WA"
                                },
                                {
                                    "Model": "XC60",
                                    "Electric_Range": "18",
                                    "Electric_Vehicle_Type": "Plug-in Hybrid Electric Vehicle (PHEV)",
                                    "State": "WA"
                                },
                                {
                                    "Model": "S-CLASS",
                                    "Electric_Range": "12",
                                    "Electric_Vehicle_Type": "Plug-in Hybrid Electric Vehicle (PHEV)",
                                    "State": "WA"
                                },
                                {
                                    "Model": "XC90",
                                    "Electric_Range": "18",
                                    "Electric_Vehicle_Type": "Plug-in Hybrid Electric Vehicle (PHEV)",
                                    "State": "WA"
                                },
                                {
                                    "Model": "WRANGLER",
                                    "Electric_Range": "21",
                                    "Electric_Vehicle_Type": "Plug-in Hybrid Electric Vehicle (PHEV)",
                                    "State": "WA"
                                },
                                {
                                    "Model": "V60",
                                    "Electric_Range": "22",
                                    "Electric_Vehicle_Type": "Plug-in Hybrid Electric Vehicle (PHEV)",
                                    "State": "WA"
                                },
                                {
                                    "Model": "SANTA FE",
                                    "Electric_Range": "30",
                                    "Electric_Vehicle_Type": "Plug-in Hybrid Electric Vehicle (PHEV)",
                                    "State": "WA"
                                },
                                {
                                    "Model": "745LE",
                                    "Electric_Range": "16",
                                    "Electric_Vehicle_Type": "Plug-in Hybrid Electric Vehicle (PHEV)",
                                    "State": "WA"
                                },
                                {
                                    "Model": "OUTLANDER",
                                    "Electric_Range": "38",
                                    "Electric_Vehicle_Type": "Plug-in Hybrid Electric Vehicle (PHEV)",
                                    "State": "WA"
                                },
                                {
                                    "Model": "ESCAPE",
                                    "Electric_Range": "37",
                                    "Electric_Vehicle_Type": "Plug-in Hybrid Electric Vehicle (PHEV)",
                                    "State": "WA"
                                },
                                {
                                    "Model": "PANAMERA",
                                    "Electric_Range": "14",
                                    "Electric_Vehicle_Type": "Plug-in Hybrid Electric Vehicle (PHEV)",
                                    "State": "WA"
                                },
                                {
                                    "Model": "745E",
                                    "Electric_Range": "16",
                                    "Electric_Vehicle_Type": "Plug-in Hybrid Electric Vehicle (PHEV)",
                                    "State": "WA"
                                },
                                {
                                    "Model": "I8",
                                    "Electric_Range": "14",
                                    "Electric_Vehicle_Type": "Plug-in Hybrid Electric Vehicle (PHEV)",
                                    "State": "WA"
                                },
                                {
                                    "Model": "530E",
                                    "Electric_Range": "16",
                                    "Electric_Vehicle_Type": "Plug-in Hybrid Electric Vehicle (PHEV)",
                                    "State": "WA"
                                },
                                {
                                    "Model": "918",
                                    "Electric_Range": "12",
                                    "Electric_Vehicle_Type": "Plug-in Hybrid Electric Vehicle (PHEV)",
                                    "State": "WA"
                                },
                                {
                                    "Model": "TUCSON",
                                    "Electric_Range": "33",
                                    "Electric_Vehicle_Type": "Plug-in Hybrid Electric Vehicle (PHEV)",
                                    "State": "WA"
                                },
                                {
                                    "Model": "XC90",
                                    "Electric_Range": "17",
                                    "Electric_Vehicle_Type": "Plug-in Hybrid Electric Vehicle (PHEV)",
                                    "State": "WA"
                                },
                                {
                                    "Model": "WRANGLER",
                                    "Electric_Range": "22",
                                    "Electric_Vehicle_Type": "Plug-in Hybrid Electric Vehicle (PHEV)",
                                    "State": "WA"
                                },
                                {
                                    "Model": "740E",
                                    "Electric_Range": "14",
                                    "Electric_Vehicle_Type": "Plug-in Hybrid Electric Vehicle (PHEV)",
                                    "State": "WA"
                                },
                                {
                                    "Model": "WRANGLER",
                                    "Electric_Range": "25",
                                    "Electric_Vehicle_Type": "Plug-in Hybrid Electric Vehicle (PHEV)",
                                    "State": "WA"
                                },
                                {
                                    "Model": "XC90",
                                    "Electric_Range": "14",
                                    "Electric_Vehicle_Type": "Plug-in Hybrid Electric Vehicle (PHEV)",
                                    "State": "WA"
                                },
                                {
                                    "Model": "A8 E",
                                    "Electric_Range": "17",
                                    "Electric_Vehicle_Type": "Plug-in Hybrid Electric Vehicle (PHEV)",
                                    "State": "WA"
                                },
                                {
                                    "Model": "OPTIMA",
                                    "Electric_Range": "28",
                                    "Electric_Vehicle_Type": "Plug-in Hybrid Electric Vehicle (PHEV)",
                                    "State": "WA"
                                },
                                {
                                    "Model": "HORNET",
                                    "Electric_Range": "32",
                                    "Electric_Vehicle_Type": "Plug-in Hybrid Electric Vehicle (PHEV)",
                                    "State": "WA"
                                },
                                {
                                    "Model": "PRIUS PLUG-IN",
                                    "Electric_Range": "6",
                                    "Electric_Vehicle_Type": "Plug-in Hybrid Electric Vehicle (PHEV)",
                                    "State": "WA"
                                }
                            ]
                        },
                        "text/html": [
                            "<table>",
                            "<tr><th>Model</th><th>Electric_Range</th><th>Electric_Vehicle_Type</th><th>State</th></tr>",
                            "<tr><td>XC90</td><td>13</td><td>Plug-in Hybrid Electric Vehicle (PHEV)</td><td>WA</td></tr>",
                            "<tr><td>S-CLASS</td><td>46</td><td>Plug-in Hybrid Electric Vehicle (PHEV)</td><td>WA</td></tr>",
                            "<tr><td>530E</td><td>15</td><td>Plug-in Hybrid Electric Vehicle (PHEV)</td><td>WA</td></tr>",
                            "<tr><td>COUNTRYMAN</td><td>17</td><td>Plug-in Hybrid Electric Vehicle (PHEV)</td><td>WA</td></tr>",
                            "<tr><td>NIRO</td><td>33</td><td>Plug-in Hybrid Electric Vehicle (PHEV)</td><td>WA</td></tr>",
                            "<tr><td>SANTA FE</td><td>31</td><td>Plug-in Hybrid Electric Vehicle (PHEV)</td><td>WA</td></tr>",
                            "<tr><td>ELR</td><td>40</td><td>Plug-in Hybrid Electric Vehicle (PHEV)</td><td>WA</td></tr>",
                            "<tr><td>GRAND CHEROKEE</td><td>25</td><td>Plug-in Hybrid Electric Vehicle (PHEV)</td><td>WA</td></tr>",
                            "<tr><td>ELR</td><td>37</td><td>Plug-in Hybrid Electric Vehicle (PHEV)</td><td>WA</td></tr>",
                            "<tr><td>GLE-CLASS</td><td>48</td><td>Plug-in Hybrid Electric Vehicle (PHEV)</td><td>WA</td></tr>",
                            "<tr><td>X5</td><td>14</td><td>Plug-in Hybrid Electric Vehicle (PHEV)</td><td>WA</td></tr>",
                            "<tr><td>330E</td><td>20</td><td>Plug-in Hybrid Electric Vehicle (PHEV)</td><td>WA</td></tr>",
                            "<tr><td>FUSION</td><td>26</td><td>Plug-in Hybrid Electric Vehicle (PHEV)</td><td>WA</td></tr>",
                            "<tr><td>750E</td><td>36</td><td>Plug-in Hybrid Electric Vehicle (PHEV)</td><td>WA</td></tr>",
                            "<tr><td>CAYENNE</td><td>15</td><td>Plug-in Hybrid Electric Vehicle (PHEV)</td><td>WA</td></tr>",
                            "<tr><td>PANAMERA</td><td>18</td><td>Plug-in Hybrid Electric Vehicle (PHEV)</td><td>WA</td></tr>",
                            "<tr><td>TX</td><td>33</td><td>Plug-in Hybrid Electric Vehicle (PHEV)</td><td>WA</td></tr>",
                            "<tr><td>AVIATOR</td><td>21</td><td>Plug-in Hybrid Electric Vehicle (PHEV)</td><td>WA</td></tr>",
                            "<tr><td>SONATA</td><td>28</td><td>Plug-in Hybrid Electric Vehicle (PHEV)</td><td>WA</td></tr>",
                            "<tr><td>CAYENNE</td><td>12</td><td>Plug-in Hybrid Electric Vehicle (PHEV)</td><td>WA</td></tr>",
                            "<tr><td>NX</td><td>37</td><td>Plug-in Hybrid Electric Vehicle (PHEV)</td><td>WA</td></tr>",
                            "<tr><td>CLARITY</td><td>48</td><td>Plug-in Hybrid Electric Vehicle (PHEV)</td><td>WA</td></tr>",
                            "<tr><td>X5</td><td>30</td><td>Plug-in Hybrid Electric Vehicle (PHEV)</td><td>WA</td></tr>",
                            "<tr><td>Q5 E</td><td>19</td><td>Plug-in Hybrid Electric Vehicle (PHEV)</td><td>WA</td></tr>",
                            "<tr><td>RX</td><td>37</td><td>Plug-in Hybrid Electric Vehicle (PHEV)</td><td>WA</td></tr>",
                            "<tr><td>S60</td><td>22</td><td>Plug-in Hybrid Electric Vehicle (PHEV)</td><td>WA</td></tr>",
                            "<tr><td>XC60</td><td>17</td><td>Plug-in Hybrid Electric Vehicle (PHEV)</td><td>WA</td></tr>",
                            "<tr><td>PACIFICA</td><td>32</td><td>Plug-in Hybrid Electric Vehicle (PHEV)</td><td>WA</td></tr>",
                            "<tr><td>Q5</td><td>23</td><td>Plug-in Hybrid Electric Vehicle (PHEV)</td><td>WA</td></tr>",
                            "<tr><td>BENTAYGA</td><td>17</td><td>Plug-in Hybrid Electric Vehicle (PHEV)</td><td>WA</td></tr>",
                            "<tr><td>CT6</td><td>31</td><td>Plug-in Hybrid Electric Vehicle (PHEV)</td><td>WA</td></tr>",
                            "<tr><td>I8</td><td>17</td><td>Plug-in Hybrid Electric Vehicle (PHEV)</td><td>WA</td></tr>",
                            "<tr><td>XC90</td><td>32</td><td>Plug-in Hybrid Electric Vehicle (PHEV)</td><td>WA</td></tr>",
                            "<tr><td>S90</td><td>21</td><td>Plug-in Hybrid Electric Vehicle (PHEV)</td><td>WA</td></tr>",
                            "<tr><td>FLYING SPUR</td><td>21</td><td>Plug-in Hybrid Electric Vehicle (PHEV)</td><td>WA</td></tr>",
                            "<tr><td>PRIUS PRIME</td><td>25</td><td>Plug-in Hybrid Electric Vehicle (PHEV)</td><td>WA</td></tr>",
                            "<tr><td>CROSSTREK</td><td>17</td><td>Plug-in Hybrid Electric Vehicle (PHEV)</td><td>WA</td></tr>",
                            "<tr><td>SPORTAGE</td><td>34</td><td>Plug-in Hybrid Electric Vehicle (PHEV)</td><td>WA</td></tr>",
                            "<tr><td>S-CLASS</td><td>14</td><td>Plug-in Hybrid Electric Vehicle (PHEV)</td><td>WA</td></tr>",
                            "<tr><td>330E</td><td>14</td><td>Plug-in Hybrid Electric Vehicle (PHEV)</td><td>WA</td></tr>",
                            "<tr><td>C-MAX</td><td>19</td><td>Plug-in Hybrid Electric Vehicle (PHEV)</td><td>WA</td></tr>",
                            "<tr><td>S60</td><td>41</td><td>Plug-in Hybrid Electric Vehicle (PHEV)</td><td>WA</td></tr>",
                            "<tr><td>OUTLANDER</td><td>22</td><td>Plug-in Hybrid Electric Vehicle (PHEV)</td><td>WA</td></tr>",
                            "<tr><td>C-CLASS</td><td>8</td><td>Plug-in Hybrid Electric Vehicle (PHEV)</td><td>WA</td></tr>",
                            "<tr><td>Q5 E</td><td>18</td><td>Plug-in Hybrid Electric Vehicle (PHEV)</td><td>WA</td></tr>",
                            "<tr><td>CLARITY</td><td>47</td><td>Plug-in Hybrid Electric Vehicle (PHEV)</td><td>WA</td></tr>",
                            "<tr><td>IONIQ</td><td>29</td><td>Plug-in Hybrid Electric Vehicle (PHEV)</td><td>WA</td></tr>",
                            "<tr><td>V60</td><td>41</td><td>Plug-in Hybrid Electric Vehicle (PHEV)</td><td>WA</td></tr>",
                            "<tr><td>C-CLASS</td><td>11</td><td>Plug-in Hybrid Electric Vehicle (PHEV)</td><td>WA</td></tr>",
                            "<tr><td>FUSION</td><td>19</td><td>Plug-in Hybrid Electric Vehicle (PHEV)</td><td>WA</td></tr>",
                            "<tr><td>PRIUS PRIME</td><td>39</td><td>Plug-in Hybrid Electric Vehicle (PHEV)</td><td>WA</td></tr>",
                            "<tr><td>SORENTO</td><td>32</td><td>Plug-in Hybrid Electric Vehicle (PHEV)</td><td>WA</td></tr>",
                            "<tr><td>PACIFICA</td><td>33</td><td>Plug-in Hybrid Electric Vehicle (PHEV)</td><td>WA</td></tr>",
                            "<tr><td>Q5 E</td><td>20</td><td>Plug-in Hybrid Electric Vehicle (PHEV)</td><td>WA</td></tr>",
                            "<tr><td>GLC-CLASS</td><td>22</td><td>Plug-in Hybrid Electric Vehicle (PHEV)</td><td>WA</td></tr>",
                            "<tr><td>SONATA</td><td>27</td><td>Plug-in Hybrid Electric Vehicle (PHEV)</td><td>WA</td></tr>",
                            "<tr><td>XC90</td><td>19</td><td>Plug-in Hybrid Electric Vehicle (PHEV)</td><td>WA</td></tr>",
                            "<tr><td>OUTLANDER</td><td>24</td><td>Plug-in Hybrid Electric Vehicle (PHEV)</td><td>WA</td></tr>",
                            "<tr><td>GLE-CLASS</td><td>10</td><td>Plug-in Hybrid Electric Vehicle (PHEV)</td><td>WA</td></tr>",
                            "<tr><td>Q5</td><td>22</td><td>Plug-in Hybrid Electric Vehicle (PHEV)</td><td>WA</td></tr>",
                            "<tr><td>RANGE ROVER SPORT</td><td>19</td><td>Plug-in Hybrid Electric Vehicle (PHEV)</td><td>WA</td></tr>",
                            "<tr><td>NIRO</td><td>26</td><td>Plug-in Hybrid Electric Vehicle (PHEV)</td><td>WA</td></tr>",
                            "<tr><td>CAYENNE</td><td>13</td><td>Plug-in Hybrid Electric Vehicle (PHEV)</td><td>WA</td></tr>",
                            "<tr><td>CAYENNE</td><td>16</td><td>Plug-in Hybrid Electric Vehicle (PHEV)</td><td>WA</td></tr>",
                            "<tr><td>CX-90</td><td>26</td><td>Plug-in Hybrid Electric Vehicle (PHEV)</td><td>WA</td></tr>",
                            "<tr><td>XC60</td><td>19</td><td>Plug-in Hybrid Electric Vehicle (PHEV)</td><td>WA</td></tr>",
                            "<tr><td>ELR</td><td>36</td><td>Plug-in Hybrid Electric Vehicle (PHEV)</td><td>WA</td></tr>",
                            "<tr><td>Q5 E</td><td>23</td><td>Plug-in Hybrid Electric Vehicle (PHEV)</td><td>WA</td></tr>",
                            "<tr><td>OPTIMA</td><td>29</td><td>Plug-in Hybrid Electric Vehicle (PHEV)</td><td>WA</td></tr>",
                            "<tr><td>330E</td><td>22</td><td>Plug-in Hybrid Electric Vehicle (PHEV)</td><td>WA</td></tr>",
                            "<tr><td>PANAMERA</td><td>15</td><td>Plug-in Hybrid Electric Vehicle (PHEV)</td><td>WA</td></tr>",
                            "<tr><td>S90</td><td>38</td><td>Plug-in Hybrid Electric Vehicle (PHEV)</td><td>WA</td></tr>",
                            "<tr><td>RANGE ROVER</td><td>19</td><td>Plug-in Hybrid Electric Vehicle (PHEV)</td><td>WA</td></tr>",
                            "<tr><td>VOLT</td><td>38</td><td>Plug-in Hybrid Electric Vehicle (PHEV)</td><td>WA</td></tr>",
                            "<tr><td>TONALE</td><td>33</td><td>Plug-in Hybrid Electric Vehicle (PHEV)</td><td>WA</td></tr>",
                            "<tr><td>VOLT</td><td>35</td><td>Plug-in Hybrid Electric Vehicle (PHEV)</td><td>WA</td></tr>",
                            "<tr><td>COUNTRYMAN</td><td>12</td><td>Plug-in Hybrid Electric Vehicle (PHEV)</td><td>WA</td></tr>",
                            "<tr><td>KARMA</td><td>33</td><td>Plug-in Hybrid Electric Vehicle (PHEV)</td><td>WA</td></tr>",
                            "<tr><td>GLC-CLASS</td><td>10</td><td>Plug-in Hybrid Electric Vehicle (PHEV)</td><td>WA</td></tr>",
                            "<tr><td>XM</td><td>31</td><td>Plug-in Hybrid Electric Vehicle (PHEV)</td><td>WA</td></tr>",
                            "<tr><td>530E</td><td>14</td><td>Plug-in Hybrid Electric Vehicle (PHEV)</td><td>WA</td></tr>",
                            "<tr><td>ESCAPE</td><td>38</td><td>Plug-in Hybrid Electric Vehicle (PHEV)</td><td>WA</td></tr>",
                            "<tr><td>530E</td><td>20</td><td>Plug-in Hybrid Electric Vehicle (PHEV)</td><td>WA</td></tr>",
                            "<tr><td>CORSAIR</td><td>28</td><td>Plug-in Hybrid Electric Vehicle (PHEV)</td><td>WA</td></tr>",
                            "<tr><td>530E</td><td>21</td><td>Plug-in Hybrid Electric Vehicle (PHEV)</td><td>WA</td></tr>",
                            "<tr><td>XC60</td><td>32</td><td>Plug-in Hybrid Electric Vehicle (PHEV)</td><td>WA</td></tr>",
                            "<tr><td>A3</td><td>16</td><td>Plug-in Hybrid Electric Vehicle (PHEV)</td><td>WA</td></tr>",
                            "<tr><td>X5</td><td>13</td><td>Plug-in Hybrid Electric Vehicle (PHEV)</td><td>WA</td></tr>",
                            "<tr><td>530E</td><td>18</td><td>Plug-in Hybrid Electric Vehicle (PHEV)</td><td>WA</td></tr>",
                            "<tr><td>RAV4 PRIME</td><td>42</td><td>Plug-in Hybrid Electric Vehicle (PHEV)</td><td>WA</td></tr>",
                            "<tr><td>ACCORD</td><td>13</td><td>Plug-in Hybrid Electric Vehicle (PHEV)</td><td>WA</td></tr>",
                            "<tr><td>X5</td><td>39</td><td>Plug-in Hybrid Electric Vehicle (PHEV)</td><td>WA</td></tr>",
                            "<tr><td>GLC-CLASS</td><td>9</td><td>Plug-in Hybrid Electric Vehicle (PHEV)</td><td>WA</td></tr>",
                            "<tr><td>C-MAX</td><td>20</td><td>Plug-in Hybrid Electric Vehicle (PHEV)</td><td>WA</td></tr>",
                            "<tr><td>XC90</td><td>35</td><td>Plug-in Hybrid Electric Vehicle (PHEV)</td><td>WA</td></tr>",
                            "<tr><td>X3</td><td>17</td><td>Plug-in Hybrid Electric Vehicle (PHEV)</td><td>WA</td></tr>",
                            "<tr><td>XC60</td><td>35</td><td>Plug-in Hybrid Electric Vehicle (PHEV)</td><td>WA</td></tr>",
                            "<tr><td>CAYENNE</td><td>17</td><td>Plug-in Hybrid Electric Vehicle (PHEV)</td><td>WA</td></tr>",
                            "<tr><td>CAYENNE</td><td>14</td><td>Plug-in Hybrid Electric Vehicle (PHEV)</td><td>WA</td></tr>",
                            "<tr><td>A7 E</td><td>24</td><td>Plug-in Hybrid Electric Vehicle (PHEV)</td><td>WA</td></tr>",
                            "<tr><td>PANAMERA</td><td>19</td><td>Plug-in Hybrid Electric Vehicle (PHEV)</td><td>WA</td></tr>",
                            "<tr><td>GLE-CLASS</td><td>8</td><td>Plug-in Hybrid Electric Vehicle (PHEV)</td><td>WA</td></tr>",
                            "<tr><td>PANAMERA</td><td>16</td><td>Plug-in Hybrid Electric Vehicle (PHEV)</td><td>WA</td></tr>",
                            "<tr><td>FUSION</td><td>21</td><td>Plug-in Hybrid Electric Vehicle (PHEV)</td><td>WA</td></tr>",
                            "<tr><td>I8</td><td>18</td><td>Plug-in Hybrid Electric Vehicle (PHEV)</td><td>WA</td></tr>",
                            "<tr><td>XC60</td><td>18</td><td>Plug-in Hybrid Electric Vehicle (PHEV)</td><td>WA</td></tr>",
                            "<tr><td>S-CLASS</td><td>12</td><td>Plug-in Hybrid Electric Vehicle (PHEV)</td><td>WA</td></tr>",
                            "<tr><td>XC90</td><td>18</td><td>Plug-in Hybrid Electric Vehicle (PHEV)</td><td>WA</td></tr>",
                            "<tr><td>WRANGLER</td><td>21</td><td>Plug-in Hybrid Electric Vehicle (PHEV)</td><td>WA</td></tr>",
                            "<tr><td>V60</td><td>22</td><td>Plug-in Hybrid Electric Vehicle (PHEV)</td><td>WA</td></tr>",
                            "<tr><td>SANTA FE</td><td>30</td><td>Plug-in Hybrid Electric Vehicle (PHEV)</td><td>WA</td></tr>",
                            "<tr><td>745LE</td><td>16</td><td>Plug-in Hybrid Electric Vehicle (PHEV)</td><td>WA</td></tr>",
                            "<tr><td>OUTLANDER</td><td>38</td><td>Plug-in Hybrid Electric Vehicle (PHEV)</td><td>WA</td></tr>",
                            "<tr><td>ESCAPE</td><td>37</td><td>Plug-in Hybrid Electric Vehicle (PHEV)</td><td>WA</td></tr>",
                            "<tr><td>PANAMERA</td><td>14</td><td>Plug-in Hybrid Electric Vehicle (PHEV)</td><td>WA</td></tr>",
                            "<tr><td>745E</td><td>16</td><td>Plug-in Hybrid Electric Vehicle (PHEV)</td><td>WA</td></tr>",
                            "<tr><td>I8</td><td>14</td><td>Plug-in Hybrid Electric Vehicle (PHEV)</td><td>WA</td></tr>",
                            "<tr><td>530E</td><td>16</td><td>Plug-in Hybrid Electric Vehicle (PHEV)</td><td>WA</td></tr>",
                            "<tr><td>918</td><td>12</td><td>Plug-in Hybrid Electric Vehicle (PHEV)</td><td>WA</td></tr>",
                            "<tr><td>TUCSON</td><td>33</td><td>Plug-in Hybrid Electric Vehicle (PHEV)</td><td>WA</td></tr>",
                            "<tr><td>XC90</td><td>17</td><td>Plug-in Hybrid Electric Vehicle (PHEV)</td><td>WA</td></tr>",
                            "<tr><td>WRANGLER</td><td>22</td><td>Plug-in Hybrid Electric Vehicle (PHEV)</td><td>WA</td></tr>",
                            "<tr><td>740E</td><td>14</td><td>Plug-in Hybrid Electric Vehicle (PHEV)</td><td>WA</td></tr>",
                            "<tr><td>WRANGLER</td><td>25</td><td>Plug-in Hybrid Electric Vehicle (PHEV)</td><td>WA</td></tr>",
                            "<tr><td>XC90</td><td>14</td><td>Plug-in Hybrid Electric Vehicle (PHEV)</td><td>WA</td></tr>",
                            "<tr><td>A8 E</td><td>17</td><td>Plug-in Hybrid Electric Vehicle (PHEV)</td><td>WA</td></tr>",
                            "<tr><td>OPTIMA</td><td>28</td><td>Plug-in Hybrid Electric Vehicle (PHEV)</td><td>WA</td></tr>",
                            "<tr><td>HORNET</td><td>32</td><td>Plug-in Hybrid Electric Vehicle (PHEV)</td><td>WA</td></tr>",
                            "<tr><td>PRIUS PLUG-IN</td><td>6</td><td>Plug-in Hybrid Electric Vehicle (PHEV)</td><td>WA</td></tr>",
                            "</table>"
                        ]
                    }
                }
            ],
            "execution_count": 21
        },
        {
            "cell_type": "markdown",
            "source": [
                "The following query is showing electric range between 100 and 200 miles for the make NISSAN, we can see that in 2017 the range was 107 miles and 2018 it increased to 151. However, in 2019-2020 the batteries were tested again and there was a small decrease in miles range."
            ],
            "metadata": {
                "azdata_cell_guid": "f2304acf-6e73-4c92-a45d-cb38e5830a33"
            },
            "attachments": {}
        },
        {
            "cell_type": "code",
            "source": [
                "Select distinct model_year,model, Electric_Range,Make from Electric_Vehicle_Population_Data\r\n",
                "Where Electric_Range between 100 and 200 and make = 'NISSAN'\r\n",
                "ORDER by Model;"
            ],
            "metadata": {
                "azdata_cell_guid": "128b435a-dd7b-4b37-b7d7-c16758f435ab",
                "language": "sql",
                "tags": []
            },
            "outputs": [
                {
                    "output_type": "display_data",
                    "data": {
                        "text/html": "(4 rows affected)"
                    },
                    "metadata": {}
                },
                {
                    "output_type": "display_data",
                    "data": {
                        "text/html": "Total execution time: 00:00:00.034"
                    },
                    "metadata": {}
                },
                {
                    "output_type": "execute_result",
                    "metadata": {
                        "azdata_chartOptions": {
                            "type": "doughnut",
                            "dataDirection": "vertical",
                            "columnsAsLabels": true,
                            "labelFirstColumn": false,
                            "legendPosition": "top"
                        }
                    },
                    "execution_count": 31,
                    "data": {
                        "application/vnd.dataresource+json": {
                            "schema": {
                                "fields": [
                                    {
                                        "name": "model_year"
                                    },
                                    {
                                        "name": "model"
                                    },
                                    {
                                        "name": "Electric_Range"
                                    },
                                    {
                                        "name": "Make"
                                    }
                                ]
                            },
                            "data": [
                                {
                                    "model_year": "2017",
                                    "model": "LEAF",
                                    "Electric_Range": "107",
                                    "Make": "NISSAN"
                                },
                                {
                                    "model_year": "2018",
                                    "model": "LEAF",
                                    "Electric_Range": "151",
                                    "Make": "NISSAN"
                                },
                                {
                                    "model_year": "2019",
                                    "model": "LEAF",
                                    "Electric_Range": "150",
                                    "Make": "NISSAN"
                                },
                                {
                                    "model_year": "2020",
                                    "model": "LEAF",
                                    "Electric_Range": "149",
                                    "Make": "NISSAN"
                                }
                            ]
                        },
                        "text/html": [
                            "<table>",
                            "<tr><th>model_year</th><th>model</th><th>Electric_Range</th><th>Make</th></tr>",
                            "<tr><td>2017</td><td>LEAF</td><td>107</td><td>NISSAN</td></tr>",
                            "<tr><td>2018</td><td>LEAF</td><td>151</td><td>NISSAN</td></tr>",
                            "<tr><td>2019</td><td>LEAF</td><td>150</td><td>NISSAN</td></tr>",
                            "<tr><td>2020</td><td>LEAF</td><td>149</td><td>NISSAN</td></tr>",
                            "</table>"
                        ]
                    }
                }
            ],
            "execution_count": 31
        },
        {
            "cell_type": "markdown",
            "source": [
                "The following query show the information of average miles range for all models that are BEV and PHEV that has status clean alternative fuel vehicle eligible."
            ],
            "metadata": {
                "azdata_cell_guid": "590ef725-b703-48cf-abc2-d3d93d51c1f2"
            },
            "attachments": {}
        },
        {
            "cell_type": "code",
            "source": [
                "Select Model, AVG(Electric_range) as Average_Miles  from Electric_Vehicle_Population_Data\r\n",
                "where Clean_Alternative_Fuel_Vehicle_CAFV_Eligibility = 'Clean Alternative Fuel Vehicle Eligible'\r\n",
                "GROUP by Model;"
            ],
            "metadata": {
                "azdata_cell_guid": "6ae7c3de-8914-460f-a081-ded75c257cf7",
                "language": "sql"
            },
            "outputs": [
                {
                    "output_type": "display_data",
                    "data": {
                        "text/html": "(65 rows affected)"
                    },
                    "metadata": {}
                },
                {
                    "output_type": "display_data",
                    "data": {
                        "text/html": "Total execution time: 00:00:00.046"
                    },
                    "metadata": {}
                },
                {
                    "output_type": "execute_result",
                    "metadata": {
                        "azdata_chartOptions": {
                            "type": "bar",
                            "dataDirection": "vertical",
                            "columnsAsLabels": true,
                            "labelFirstColumn": false,
                            "legendPosition": "top"
                        }
                    },
                    "execution_count": 41,
                    "data": {
                        "application/vnd.dataresource+json": {
                            "schema": {
                                "fields": [
                                    {
                                        "name": "Model"
                                    },
                                    {
                                        "name": "Average_Miles"
                                    }
                                ]
                            },
                            "data": [
                                {
                                    "Model": "B-CLASS",
                                    "Average_Miles": "87"
                                },
                                {
                                    "Model": "BOLT EV",
                                    "Average_Miles": "244"
                                },
                                {
                                    "Model": "IONIQ",
                                    "Average_Miles": "152"
                                },
                                {
                                    "Model": "750E",
                                    "Average_Miles": "36"
                                },
                                {
                                    "Model": "CT6",
                                    "Average_Miles": "31"
                                },
                                {
                                    "Model": "ESCAPE",
                                    "Average_Miles": "37"
                                },
                                {
                                    "Model": "NIRO",
                                    "Average_Miles": "174"
                                },
                                {
                                    "Model": "RANGER",
                                    "Average_Miles": "64"
                                },
                                {
                                    "Model": "SORENTO",
                                    "Average_Miles": "32"
                                },
                                {
                                    "Model": "SOUL",
                                    "Average_Miles": "93"
                                },
                                {
                                    "Model": "VOLT",
                                    "Average_Miles": "45"
                                },
                                {
                                    "Model": "500",
                                    "Average_Miles": "85"
                                },
                                {
                                    "Model": "CITY",
                                    "Average_Miles": "100"
                                },
                                {
                                    "Model": "EQ FORTWO",
                                    "Average_Miles": "58"
                                },
                                {
                                    "Model": "GLE-CLASS",
                                    "Average_Miles": "48"
                                },
                                {
                                    "Model": "MODEL S",
                                    "Average_Miles": "227"
                                },
                                {
                                    "Model": "MODEL X",
                                    "Average_Miles": "240"
                                },
                                {
                                    "Model": "PACIFICA",
                                    "Average_Miles": "32"
                                },
                                {
                                    "Model": "RAV4 PRIME",
                                    "Average_Miles": "42"
                                },
                                {
                                    "Model": "TRANSIT CONNECT ELECTRIC",
                                    "Average_Miles": "56"
                                },
                                {
                                    "Model": "XC90",
                                    "Average_Miles": "32"
                                },
                                {
                                    "Model": "FOCUS",
                                    "Average_Miles": "79"
                                },
                                {
                                    "Model": "I-PACE",
                                    "Average_Miles": "234"
                                },
                                {
                                    "Model": "MODEL Y",
                                    "Average_Miles": "291"
                                },
                                {
                                    "Model": "PS2",
                                    "Average_Miles": "233"
                                },
                                {
                                    "Model": "S90",
                                    "Average_Miles": "38"
                                },
                                {
                                    "Model": "X5",
                                    "Average_Miles": "32"
                                },
                                {
                                    "Model": "E-GOLF",
                                    "Average_Miles": "107"
                                },
                                {
                                    "Model": "E-TRON",
                                    "Average_Miles": "207"
                                },
                                {
                                    "Model": "FORTWO",
                                    "Average_Miles": "62"
                                },
                                {
                                    "Model": "HARDTOP",
                                    "Average_Miles": "110"
                                },
                                {
                                    "Model": "HORNET",
                                    "Average_Miles": "32"
                                },
                                {
                                    "Model": "I3",
                                    "Average_Miles": "91"
                                },
                                {
                                    "Model": "I-MIEV",
                                    "Average_Miles": "61"
                                },
                                {
                                    "Model": "OUTLANDER",
                                    "Average_Miles": "38"
                                },
                                {
                                    "Model": "TONALE",
                                    "Average_Miles": "33"
                                },
                                {
                                    "Model": "ELR",
                                    "Average_Miles": "37"
                                },
                                {
                                    "Model": "E-TRON SPORTBACK",
                                    "Average_Miles": "218"
                                },
                                {
                                    "Model": "FORTWO ELECTRIC DRIVE",
                                    "Average_Miles": "63"
                                },
                                {
                                    "Model": "NX",
                                    "Average_Miles": "37"
                                },
                                {
                                    "Model": "RAV4",
                                    "Average_Miles": "102"
                                },
                                {
                                    "Model": "RX",
                                    "Average_Miles": "37"
                                },
                                {
                                    "Model": "S-10 PICKUP",
                                    "Average_Miles": "39"
                                },
                                {
                                    "Model": "CLARITY",
                                    "Average_Miles": "47"
                                },
                                {
                                    "Model": "KONA",
                                    "Average_Miles": "258"
                                },
                                {
                                    "Model": "MODEL 3",
                                    "Average_Miles": "238"
                                },
                                {
                                    "Model": "RANGE ROVER",
                                    "Average_Miles": "57"
                                },
                                {
                                    "Model": "ROADSTER",
                                    "Average_Miles": "234"
                                },
                                {
                                    "Model": "S60",
                                    "Average_Miles": "41"
                                },
                                {
                                    "Model": "V60",
                                    "Average_Miles": "41"
                                },
                                {
                                    "Model": "WHEEGO",
                                    "Average_Miles": "100"
                                },
                                {
                                    "Model": "KARMA",
                                    "Average_Miles": "33"
                                },
                                {
                                    "Model": "LEAF",
                                    "Average_Miles": "104"
                                },
                                {
                                    "Model": "PRIUS PRIME",
                                    "Average_Miles": "39"
                                },
                                {
                                    "Model": "RANGE ROVER SPORT",
                                    "Average_Miles": "59"
                                },
                                {
                                    "Model": "SANTA FE",
                                    "Average_Miles": "30"
                                },
                                {
                                    "Model": "S-CLASS",
                                    "Average_Miles": "46"
                                },
                                {
                                    "Model": "SOUL EV",
                                    "Average_Miles": "98"
                                },
                                {
                                    "Model": "SPARK",
                                    "Average_Miles": "82"
                                },
                                {
                                    "Model": "SPORTAGE",
                                    "Average_Miles": "34"
                                },
                                {
                                    "Model": "TAYCAN",
                                    "Average_Miles": "198"
                                },
                                {
                                    "Model": "TUCSON",
                                    "Average_Miles": "33"
                                },
                                {
                                    "Model": "TX",
                                    "Average_Miles": "33"
                                },
                                {
                                    "Model": "XC60",
                                    "Average_Miles": "34"
                                },
                                {
                                    "Model": "XM",
                                    "Average_Miles": "31"
                                }
                            ]
                        },
                        "text/html": [
                            "<table>",
                            "<tr><th>Model</th><th>Average_Miles</th></tr>",
                            "<tr><td>B-CLASS</td><td>87</td></tr>",
                            "<tr><td>BOLT EV</td><td>244</td></tr>",
                            "<tr><td>IONIQ</td><td>152</td></tr>",
                            "<tr><td>750E</td><td>36</td></tr>",
                            "<tr><td>CT6</td><td>31</td></tr>",
                            "<tr><td>ESCAPE</td><td>37</td></tr>",
                            "<tr><td>NIRO</td><td>174</td></tr>",
                            "<tr><td>RANGER</td><td>64</td></tr>",
                            "<tr><td>SORENTO</td><td>32</td></tr>",
                            "<tr><td>SOUL</td><td>93</td></tr>",
                            "<tr><td>VOLT</td><td>45</td></tr>",
                            "<tr><td>500</td><td>85</td></tr>",
                            "<tr><td>CITY</td><td>100</td></tr>",
                            "<tr><td>EQ FORTWO</td><td>58</td></tr>",
                            "<tr><td>GLE-CLASS</td><td>48</td></tr>",
                            "<tr><td>MODEL S</td><td>227</td></tr>",
                            "<tr><td>MODEL X</td><td>240</td></tr>",
                            "<tr><td>PACIFICA</td><td>32</td></tr>",
                            "<tr><td>RAV4 PRIME</td><td>42</td></tr>",
                            "<tr><td>TRANSIT CONNECT ELECTRIC</td><td>56</td></tr>",
                            "<tr><td>XC90</td><td>32</td></tr>",
                            "<tr><td>FOCUS</td><td>79</td></tr>",
                            "<tr><td>I-PACE</td><td>234</td></tr>",
                            "<tr><td>MODEL Y</td><td>291</td></tr>",
                            "<tr><td>PS2</td><td>233</td></tr>",
                            "<tr><td>S90</td><td>38</td></tr>",
                            "<tr><td>X5</td><td>32</td></tr>",
                            "<tr><td>E-GOLF</td><td>107</td></tr>",
                            "<tr><td>E-TRON</td><td>207</td></tr>",
                            "<tr><td>FORTWO</td><td>62</td></tr>",
                            "<tr><td>HARDTOP</td><td>110</td></tr>",
                            "<tr><td>HORNET</td><td>32</td></tr>",
                            "<tr><td>I3</td><td>91</td></tr>",
                            "<tr><td>I-MIEV</td><td>61</td></tr>",
                            "<tr><td>OUTLANDER</td><td>38</td></tr>",
                            "<tr><td>TONALE</td><td>33</td></tr>",
                            "<tr><td>ELR</td><td>37</td></tr>",
                            "<tr><td>E-TRON SPORTBACK</td><td>218</td></tr>",
                            "<tr><td>FORTWO ELECTRIC DRIVE</td><td>63</td></tr>",
                            "<tr><td>NX</td><td>37</td></tr>",
                            "<tr><td>RAV4</td><td>102</td></tr>",
                            "<tr><td>RX</td><td>37</td></tr>",
                            "<tr><td>S-10 PICKUP</td><td>39</td></tr>",
                            "<tr><td>CLARITY</td><td>47</td></tr>",
                            "<tr><td>KONA</td><td>258</td></tr>",
                            "<tr><td>MODEL 3</td><td>238</td></tr>",
                            "<tr><td>RANGE ROVER</td><td>57</td></tr>",
                            "<tr><td>ROADSTER</td><td>234</td></tr>",
                            "<tr><td>S60</td><td>41</td></tr>",
                            "<tr><td>V60</td><td>41</td></tr>",
                            "<tr><td>WHEEGO</td><td>100</td></tr>",
                            "<tr><td>KARMA</td><td>33</td></tr>",
                            "<tr><td>LEAF</td><td>104</td></tr>",
                            "<tr><td>PRIUS PRIME</td><td>39</td></tr>",
                            "<tr><td>RANGE ROVER SPORT</td><td>59</td></tr>",
                            "<tr><td>SANTA FE</td><td>30</td></tr>",
                            "<tr><td>S-CLASS</td><td>46</td></tr>",
                            "<tr><td>SOUL EV</td><td>98</td></tr>",
                            "<tr><td>SPARK</td><td>82</td></tr>",
                            "<tr><td>SPORTAGE</td><td>34</td></tr>",
                            "<tr><td>TAYCAN</td><td>198</td></tr>",
                            "<tr><td>TUCSON</td><td>33</td></tr>",
                            "<tr><td>TX</td><td>33</td></tr>",
                            "<tr><td>XC60</td><td>34</td></tr>",
                            "<tr><td>XM</td><td>31</td></tr>",
                            "</table>"
                        ]
                    }
                }
            ],
            "execution_count": 41
        }
    ]
}